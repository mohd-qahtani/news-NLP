{
 "cells": [
  {
   "cell_type": "markdown",
   "metadata": {},
   "source": [
    "# Project 4 \n",
    "## Sabq News Classification\n",
    "#### By : Mohammad Qahtani\n",
    "\n",
    "<img src=\"https://scontent.fruh3-1.fna.fbcdn.net/v/t1.0-9/50263531_2263997373610396_5681118121918726144_o.jpg?_nc_cat=102&_nc_ohc=bEm5jHdDi80AQnsxV1OekbyL0HNQYz7NzJQOg7_mXuvk7SkOHpENbCMcQ&_nc_ht=scontent.fruh3-1.fna&oh=9c49aa0d8cdba346a24cb300f06924fe&oe=5E7FBEED\" style=\"float: left; margin: px; height: 450px\"> "
   ]
  },
  {
   "cell_type": "markdown",
   "metadata": {},
   "source": [
    "## Data Description"
   ]
  },
  {
   "cell_type": "markdown",
   "metadata": {},
   "source": [
    "This project was based on the data acquired from https://www.kaggle.com/abdulrahmanals/arabic-news-from-sabq-website\n",
    "in the original Dataset 'title', 'author_name_of_news', 'city', 'date', 'time',\n",
    "       'number_of_watching', 'number_of_like', 'comment', 'share', 'news_text',\n",
    "       'link' were the columns with 4130 row, only the links of the news were taken and the web scraping process was repeated to get a suitable dataset for the scope of the project."
   ]
  },
  {
   "cell_type": "markdown",
   "metadata": {},
   "source": [
    "|Feature|Type|Description|\n",
    "|---|---|---|\n",
    "|title|object|News Title| \n",
    "|author_name|object|The author of the article|\n",
    "|city|object|City of the news|\n",
    "|shares|integer|Number of shares on social media|\n",
    "|news_text|object| The article |\n",
    "|label|list|The label of news from Sabq.org|"
   ]
  },
  {
   "cell_type": "markdown",
   "metadata": {},
   "source": [
    "## Problem Statement :"
   ]
  },
  {
   "cell_type": "markdown",
   "metadata": {},
   "source": [
    "To build A model that predict the classification of the news based of Sabq.org labeling system."
   ]
  },
  {
   "cell_type": "markdown",
   "metadata": {},
   "source": [
    "# Clean and Prepare your data : "
   ]
  },
  {
   "cell_type": "code",
   "execution_count": 145,
   "metadata": {
    "ExecuteTime": {
     "end_time": "2019-12-05T07:16:45.622805Z",
     "start_time": "2019-12-05T07:16:45.617876Z"
    }
   },
   "outputs": [],
   "source": [
    "# Starting with the Imports\n",
    "import requests\n",
    "import re\n",
    "from bs4 import BeautifulSoup\n",
    "import matplotlib.pyplot as plt\n",
    "import numpy as np\n",
    "import pandas as pd\n",
    "import seaborn as sns\n",
    "import nltk\n",
    "from tashaphyne.stemming import ArabicLightStemmer\n",
    "from nltk.tokenize import RegexpTokenizer\n",
    "from nltk.corpus import stopwords\n",
    "import pyarabic.arabrepr\n",
    "import warnings\n",
    "warnings.filterwarnings('ignore')"
   ]
  },
  {
   "cell_type": "markdown",
   "metadata": {},
   "source": [
    "### web scraping "
   ]
  },
  {
   "cell_type": "markdown",
   "metadata": {},
   "source": [
    "Scraping has taken place in another jupyter notebook\n",
    "this is only the code without running it"
   ]
  },
  {
   "cell_type": "code",
   "execution_count": null,
   "metadata": {},
   "outputs": [],
   "source": [
    "# reading the data \n",
    "new_class = pd.read_csv('news_data.csv')\n",
    "\n",
    "def get_data(link):\n",
    "    '''\n",
    "    input: str , link\n",
    "    output: title of the news article, Author name, city, nomber of shares, news text, and label \n",
    "    '''\n",
    "    title = []\n",
    "    author_name = []\n",
    "    city = []\n",
    "    shares = []\n",
    "    news_text = []\n",
    "    label = []\n",
    "    list_ = []\n",
    "    response = requests.get(link)\n",
    "    soup = BeautifulSoup(response.text, 'html.parser')\n",
    "    for i in soup.find_all('div',attrs={'itemprop':\"articleBody\"}):\n",
    "        news_text.append(i.text.replace('\\n',''))\n",
    "    shares.append(soup.find_all('ul',attrs={'class':\"social-ul pull-left\"})[0].strong.text)\n",
    "    author_name.append(soup.find_all('div',attrs={'class':'author-name'})[0].text.replace('\\n','').split('-')[0])\n",
    "    city.append(soup.find_all('div',attrs={'class':'author-name'})[0].text.replace('\\n','').split('-')[1])\n",
    "    title.append(soup.find('title').text)\n",
    "    list_ = []\n",
    "    for j in soup.find_all('a',attrs={'class':\"ng-binding ng-scope\"}):\n",
    "#         for k in j:\n",
    "        list_.append(j.text) \n",
    "    label.append(list_)\n",
    "  \n",
    "    "
   ]
  },
  {
   "cell_type": "code",
   "execution_count": null,
   "metadata": {},
   "outputs": [],
   "source": [
    "for idx, i in enumerate(new_class.link):\n",
    "    get_data(i)\n",
    "\n",
    "data = pd.DataFrame({'title':title,'author_name': author_name,\n",
    "                   'city':city,'shares':shares,'news_text': news_text,'label':label})\n",
    "data.to_csv('full_data.csv')"
   ]
  },
  {
   "cell_type": "code",
   "execution_count": 132,
   "metadata": {
    "ExecuteTime": {
     "end_time": "2019-12-05T07:05:04.131847Z",
     "start_time": "2019-12-05T07:05:04.120154Z"
    }
   },
   "outputs": [
    {
     "data": {
      "text/html": [
       "<div>\n",
       "<style scoped>\n",
       "    .dataframe tbody tr th:only-of-type {\n",
       "        vertical-align: middle;\n",
       "    }\n",
       "\n",
       "    .dataframe tbody tr th {\n",
       "        vertical-align: top;\n",
       "    }\n",
       "\n",
       "    .dataframe thead th {\n",
       "        text-align: right;\n",
       "    }\n",
       "</style>\n",
       "<table border=\"1\" class=\"dataframe\">\n",
       "  <thead>\n",
       "    <tr style=\"text-align: right;\">\n",
       "      <th></th>\n",
       "      <th>title</th>\n",
       "      <th>author_name</th>\n",
       "      <th>city</th>\n",
       "      <th>shares</th>\n",
       "      <th>news_text</th>\n",
       "      <th>label</th>\n",
       "    </tr>\n",
       "  </thead>\n",
       "  <tbody>\n",
       "    <tr>\n",
       "      <th>0</th>\n",
       "      <td>الدفاع المدني بالرياض يناقش مع الهلال الأحمر...</td>\n",
       "      <td>صحيفة سبق الإلكترونية</td>\n",
       "      <td>الرياض</td>\n",
       "      <td>2</td>\n",
       "      <td>استقبل مدير الدفاع المدني بمنطقة الرياض، اللوا...</td>\n",
       "      <td>['المملكة', 'محليات']</td>\n",
       "    </tr>\n",
       "    <tr>\n",
       "      <th>1</th>\n",
       "      <td>\"أبوساق\": خطاب الملك بـ\"الشورى\" وثيقة استرات...</td>\n",
       "      <td>وكالة الأنباء السعودية (واس)</td>\n",
       "      <td>الرياض</td>\n",
       "      <td>4</td>\n",
       "      <td>عدَّ وزير الدولة عضو مجلس الوزراء لشؤون مجلس ا...</td>\n",
       "      <td>['المملكة', 'محليات']</td>\n",
       "    </tr>\n",
       "    <tr>\n",
       "      <th>2</th>\n",
       "      <td>المملكة ترفض تصريحات الحكومة الأمريكية بشأن ...</td>\n",
       "      <td>وكالة الأنباء السعودية (واس)</td>\n",
       "      <td>الرياض</td>\n",
       "      <td>5</td>\n",
       "      <td>عبر مصدر مسؤول بوزارة الخارجية عن رفضه التام ل...</td>\n",
       "      <td>['المملكة', 'محليات']</td>\n",
       "    </tr>\n",
       "    <tr>\n",
       "      <th>3</th>\n",
       "      <td>ولي العهد يستعرض مع وزير الدفاع بكوريا الجنو...</td>\n",
       "      <td>وكالة الأنباء السعودية (واس)</td>\n",
       "      <td>الرياض</td>\n",
       "      <td>6</td>\n",
       "      <td>استقبل صاحب السمو الملكي الأمير محمد بن سلمان ...</td>\n",
       "      <td>['المملكة', 'محليات']</td>\n",
       "    </tr>\n",
       "    <tr>\n",
       "      <th>4</th>\n",
       "      <td>رائدات أعمال لـ\"سبق\": وضعنا بصمات مميزة عربي...</td>\n",
       "      <td>خلود غنام</td>\n",
       "      <td>الرياض</td>\n",
       "      <td>6</td>\n",
       "      <td>انطلق، مساء أمس، ملتقى سيدات الأعمال الـ19 الم...</td>\n",
       "      <td>['المملكة', 'محليات']</td>\n",
       "    </tr>\n",
       "  </tbody>\n",
       "</table>\n",
       "</div>"
      ],
      "text/plain": [
       "                                               title  \\\n",
       "0    الدفاع المدني بالرياض يناقش مع الهلال الأحمر...   \n",
       "1    \"أبوساق\": خطاب الملك بـ\"الشورى\" وثيقة استرات...   \n",
       "2    المملكة ترفض تصريحات الحكومة الأمريكية بشأن ...   \n",
       "3    ولي العهد يستعرض مع وزير الدفاع بكوريا الجنو...   \n",
       "4    رائدات أعمال لـ\"سبق\": وضعنا بصمات مميزة عربي...   \n",
       "\n",
       "                     author_name      city shares  \\\n",
       "0         صحيفة سبق الإلكترونية    الرياض       2   \n",
       "1  وكالة الأنباء السعودية (واس)    الرياض       4   \n",
       "2  وكالة الأنباء السعودية (واس)    الرياض       5   \n",
       "3  وكالة الأنباء السعودية (واس)    الرياض       6   \n",
       "4                     خلود غنام    الرياض       6   \n",
       "\n",
       "                                           news_text                  label  \n",
       "0  استقبل مدير الدفاع المدني بمنطقة الرياض، اللوا...  ['المملكة', 'محليات']  \n",
       "1  عدَّ وزير الدولة عضو مجلس الوزراء لشؤون مجلس ا...  ['المملكة', 'محليات']  \n",
       "2  عبر مصدر مسؤول بوزارة الخارجية عن رفضه التام ل...  ['المملكة', 'محليات']  \n",
       "3  استقبل صاحب السمو الملكي الأمير محمد بن سلمان ...  ['المملكة', 'محليات']  \n",
       "4  انطلق، مساء أمس، ملتقى سيدات الأعمال الـ19 الم...  ['المملكة', 'محليات']  "
      ]
     },
     "execution_count": 132,
     "metadata": {},
     "output_type": "execute_result"
    }
   ],
   "source": [
    "news = pd.read_csv('full_data.csv', index_col= False)\n",
    "news.head(5)"
   ]
  },
  {
   "cell_type": "code",
   "execution_count": 133,
   "metadata": {
    "ExecuteTime": {
     "end_time": "2019-12-05T07:05:04.600010Z",
     "start_time": "2019-12-05T07:05:04.552658Z"
    }
   },
   "outputs": [],
   "source": [
    "# changing the type of the label from list to string\n",
    "new = []\n",
    "import ast\n",
    "for i in news.label:\n",
    "    a = ast.literal_eval(i)\n",
    "    new.append(''.join(a))\n",
    "    \n",
    "news['label2'] = new "
   ]
  },
  {
   "cell_type": "code",
   "execution_count": 135,
   "metadata": {
    "ExecuteTime": {
     "end_time": "2019-12-05T07:05:05.565243Z",
     "start_time": "2019-12-05T07:05:05.554461Z"
    }
   },
   "outputs": [
    {
     "name": "stdout",
     "output_type": "stream",
     "text": [
      "<class 'pandas.core.frame.DataFrame'>\n",
      "RangeIndex: 4136 entries, 0 to 4135\n",
      "Data columns (total 7 columns):\n",
      "title          4136 non-null object\n",
      "author_name    4136 non-null object\n",
      "city           4136 non-null object\n",
      "shares         4136 non-null object\n",
      "news_text      4134 non-null object\n",
      "label          4136 non-null object\n",
      "label2         4136 non-null object\n",
      "dtypes: object(7)\n",
      "memory usage: 226.3+ KB\n"
     ]
    }
   ],
   "source": [
    "news.info()"
   ]
  },
  {
   "cell_type": "code",
   "execution_count": 136,
   "metadata": {
    "ExecuteTime": {
     "end_time": "2019-12-05T07:05:06.048482Z",
     "start_time": "2019-12-05T07:05:06.035941Z"
    }
   },
   "outputs": [
    {
     "data": {
      "text/html": [
       "<div>\n",
       "<style scoped>\n",
       "    .dataframe tbody tr th:only-of-type {\n",
       "        vertical-align: middle;\n",
       "    }\n",
       "\n",
       "    .dataframe tbody tr th {\n",
       "        vertical-align: top;\n",
       "    }\n",
       "\n",
       "    .dataframe thead th {\n",
       "        text-align: right;\n",
       "    }\n",
       "</style>\n",
       "<table border=\"1\" class=\"dataframe\">\n",
       "  <thead>\n",
       "    <tr style=\"text-align: right;\">\n",
       "      <th></th>\n",
       "      <th>title</th>\n",
       "      <th>author_name</th>\n",
       "      <th>city</th>\n",
       "      <th>shares</th>\n",
       "      <th>news_text</th>\n",
       "      <th>label</th>\n",
       "      <th>label2</th>\n",
       "    </tr>\n",
       "  </thead>\n",
       "  <tbody>\n",
       "    <tr>\n",
       "      <th>3108</th>\n",
       "      <td>\"إرهاب نصر الله على المتظاهرين في لبنان\"</td>\n",
       "      <td>صحيفة سبق الإلكترونية</td>\n",
       "      <td>الرياض</td>\n",
       "      <td>25</td>\n",
       "      <td>NaN</td>\n",
       "      <td>['كاريكاتير']</td>\n",
       "      <td>كاريكاتير</td>\n",
       "    </tr>\n",
       "    <tr>\n",
       "      <th>3893</th>\n",
       "      <td>توقيع ترامب يجبر أردوغان على الانسحاب من سوريا⁩</td>\n",
       "      <td>صحيفة سبق الإلكترونية</td>\n",
       "      <td>الرياض</td>\n",
       "      <td>40</td>\n",
       "      <td>NaN</td>\n",
       "      <td>['كاريكاتير']</td>\n",
       "      <td>كاريكاتير</td>\n",
       "    </tr>\n",
       "  </tbody>\n",
       "</table>\n",
       "</div>"
      ],
      "text/plain": [
       "                                                  title  \\\n",
       "3108           \"إرهاب نصر الله على المتظاهرين في لبنان\"   \n",
       "3893    توقيع ترامب يجبر أردوغان على الانسحاب من سوريا⁩   \n",
       "\n",
       "                 author_name      city shares news_text          label  \\\n",
       "3108  صحيفة سبق الإلكترونية    الرياض      25       NaN  ['كاريكاتير']   \n",
       "3893  صحيفة سبق الإلكترونية    الرياض      40       NaN  ['كاريكاتير']   \n",
       "\n",
       "         label2  \n",
       "3108  كاريكاتير  \n",
       "3893  كاريكاتير  "
      ]
     },
     "execution_count": 136,
     "metadata": {},
     "output_type": "execute_result"
    }
   ],
   "source": [
    "# drop nulls because there is no text in news_text as its only a caricatures \n",
    "news[news['label2'] == 'كاريكاتير']"
   ]
  },
  {
   "cell_type": "code",
   "execution_count": 137,
   "metadata": {
    "ExecuteTime": {
     "end_time": "2019-12-05T07:05:06.726868Z",
     "start_time": "2019-12-05T07:05:06.717732Z"
    }
   },
   "outputs": [],
   "source": [
    "# dropna\n",
    "news.dropna(inplace=True)"
   ]
  },
  {
   "cell_type": "code",
   "execution_count": 138,
   "metadata": {
    "ExecuteTime": {
     "end_time": "2019-12-05T07:05:07.449862Z",
     "start_time": "2019-12-05T07:05:07.439563Z"
    }
   },
   "outputs": [
    {
     "name": "stdout",
     "output_type": "stream",
     "text": [
      "<class 'pandas.core.frame.DataFrame'>\n",
      "Int64Index: 4134 entries, 0 to 4135\n",
      "Data columns (total 7 columns):\n",
      "title          4134 non-null object\n",
      "author_name    4134 non-null object\n",
      "city           4134 non-null object\n",
      "shares         4134 non-null object\n",
      "news_text      4134 non-null object\n",
      "label          4134 non-null object\n",
      "label2         4134 non-null object\n",
      "dtypes: object(7)\n",
      "memory usage: 258.4+ KB\n"
     ]
    }
   ],
   "source": [
    "news.info()"
   ]
  },
  {
   "cell_type": "markdown",
   "metadata": {},
   "source": [
    "# Preprocessing  :"
   ]
  },
  {
   "cell_type": "code",
   "execution_count": 139,
   "metadata": {
    "ExecuteTime": {
     "end_time": "2019-12-05T07:05:10.254855Z",
     "start_time": "2019-12-05T07:05:10.250864Z"
    }
   },
   "outputs": [],
   "source": [
    "# prepair to use tashyepen library \n",
    "arepr = pyarabic.arabrepr.ArabicRepr() \n",
    "repr = arepr.repr"
   ]
  },
  {
   "cell_type": "code",
   "execution_count": 140,
   "metadata": {
    "ExecuteTime": {
     "end_time": "2019-12-05T07:05:10.622037Z",
     "start_time": "2019-12-05T07:05:10.615802Z"
    }
   },
   "outputs": [],
   "source": [
    "def news_to_words(raw_news):\n",
    "    '''\n",
    "    input: str , raw movie review\n",
    "    output: str , a preprocessed - - movie review\n",
    "    '''\n",
    "    \n",
    "    stopWords = open(\"list.txt\").read().splitlines()\n",
    "    stops = set(stopWords) #convert it to set \n",
    "    ArListem = ArabicLightStemmer()\n",
    "    \n",
    "    # 1.Tokenizer\n",
    "    tokenizer = RegexpTokenizer(r'\\w+')\n",
    "    tokens = tokenizer.tokenize(raw_news)\n",
    "    \n",
    "    # 2. Remove stop words.\n",
    "     # stops is a set now\n",
    "    tokens = [w for w in tokens if not w in stops]\n",
    "   \n",
    "    # 3. Join the words back into one string separated by space, \n",
    "    # and return the result.\n",
    "    \n",
    "    stemmed_words = [ArListem.light_stem(i) for i in tokens]\n",
    "\n",
    "    return(\" \".join(stemmed_words))\n"
   ]
  },
  {
   "cell_type": "code",
   "execution_count": 141,
   "metadata": {
    "ExecuteTime": {
     "end_time": "2019-12-05T07:05:49.865974Z",
     "start_time": "2019-12-05T07:05:11.196447Z"
    }
   },
   "outputs": [
    {
     "name": "stdout",
     "output_type": "stream",
     "text": [
      "Cleaning and parsing the news......\n",
      "There are 4134 news_text.\n",
      "Review 100 of 4134 news.\n",
      "Review 200 of 4134 news.\n",
      "Review 300 of 4134 news.\n",
      "Review 400 of 4134 news.\n",
      "Review 500 of 4134 news.\n",
      "Review 600 of 4134 news.\n",
      "Review 700 of 4134 news.\n",
      "Review 800 of 4134 news.\n",
      "Review 900 of 4134 news.\n",
      "Review 1000 of 4134 news.\n",
      "Review 1100 of 4134 news.\n",
      "Review 1200 of 4134 news.\n",
      "Review 1300 of 4134 news.\n",
      "Review 1400 of 4134 news.\n",
      "Review 1500 of 4134 news.\n",
      "Review 1600 of 4134 news.\n",
      "Review 1700 of 4134 news.\n",
      "Review 1800 of 4134 news.\n",
      "Review 1900 of 4134 news.\n",
      "Review 2000 of 4134 news.\n",
      "Review 2100 of 4134 news.\n",
      "Review 2200 of 4134 news.\n",
      "Review 2300 of 4134 news.\n",
      "Review 2400 of 4134 news.\n",
      "Review 2500 of 4134 news.\n",
      "Review 2600 of 4134 news.\n",
      "Review 2700 of 4134 news.\n",
      "Review 2800 of 4134 news.\n",
      "Review 2900 of 4134 news.\n",
      "Review 3000 of 4134 news.\n",
      "Review 3100 of 4134 news.\n",
      "Review 3200 of 4134 news.\n",
      "Review 3300 of 4134 news.\n",
      "Review 3400 of 4134 news.\n",
      "Review 3500 of 4134 news.\n",
      "Review 3600 of 4134 news.\n",
      "Review 3700 of 4134 news.\n",
      "Review 3800 of 4134 news.\n",
      "Review 3900 of 4134 news.\n",
      "Review 4000 of 4134 news.\n",
      "Review 4100 of 4134 news.\n",
      "All done!\n"
     ]
    }
   ],
   "source": [
    "print(\"Cleaning and parsing the news......\") # good to know what is going on!\n",
    "\n",
    "# Initialize empty lists to hold the clean reviews.\n",
    "clean_news = []\n",
    "\n",
    "\n",
    "# Let's grab the number to run the loop!\n",
    "total_news = news.shape[0]\n",
    "print(f'There are {total_news} news_text.')\n",
    "\n",
    "j = 0 # our counter\n",
    "for text in news['news_text']:\n",
    "    # Convert news to words, then append to clean_news.\n",
    "    clean_news.append(news_to_words(text)) \n",
    "    \n",
    "    # If the index is divisible by 100, print a message\n",
    "    if (j + 1) % 100 == 0:\n",
    "        print(f'Review {j + 1} of {total_news} news.') # you can use .format() or anyother way of your choice!\n",
    "    \n",
    "    j += 1 # adding 1 to the counter \n",
    "\n",
    "print(\"All done!\")"
   ]
  },
  {
   "cell_type": "code",
   "execution_count": 142,
   "metadata": {
    "ExecuteTime": {
     "end_time": "2019-12-05T07:05:52.944227Z",
     "start_time": "2019-12-05T07:05:52.939117Z"
    }
   },
   "outputs": [
    {
     "data": {
      "text/plain": [
       "'ستقبل مدير دفاع مدن منطق رياض لواء خالد حرق مدير إدار عام فرع هيئ هلال أحمر سعود منطق رياض سعود حرب ذلك مناقش سبل تعا إطار عمل ميدان جه دا لقاء كد لواء خالد حرق تعا جه مشدد هم عزيز تنسيق مدير دفاع مدن هلال أحمر منطق تخاذ تدابير إجراء لازم حما سلام مواطن مقيم مخاطر قديم مساعد ذليل مصاعب حصل رض ميد حرب شكر قدير واء خالد حرق حفاو استقبال كد تعا ظل مستمر إذن له عالى خدم مواطن مقيم ما خدم صالح عام لقاء سلم لواء حرق درع ذكار سعود حرب فيما حضر لقاء مساعد مدير دفاع مدن شؤو عمل منطق مدير إدار إطفاء إنقاذ عميد عبدالل سحيبان ضباط مدير هلال أحمر حضر مدير إدار قياد ميدان مشرف غرف عمل عبدالمحسن حرب مدير إدار اتصال مؤسس متحدث رسم هلال أحمر سعود منطق رياض ياسر جلاجل'"
      ]
     },
     "execution_count": 142,
     "metadata": {},
     "output_type": "execute_result"
    }
   ],
   "source": [
    "#checkin the list content format\n",
    "clean_news[0]"
   ]
  },
  {
   "cell_type": "code",
   "execution_count": 143,
   "metadata": {
    "ExecuteTime": {
     "end_time": "2019-12-05T07:05:56.129640Z",
     "start_time": "2019-12-05T07:05:56.124616Z"
    }
   },
   "outputs": [
    {
     "data": {
      "text/plain": [
       "4134"
      ]
     },
     "execution_count": 143,
     "metadata": {},
     "output_type": "execute_result"
    }
   ],
   "source": [
    "len(clean_news)"
   ]
  },
  {
   "cell_type": "code",
   "execution_count": 144,
   "metadata": {
    "ExecuteTime": {
     "end_time": "2019-12-05T07:05:56.653074Z",
     "start_time": "2019-12-05T07:05:56.647909Z"
    }
   },
   "outputs": [],
   "source": [
    "news['cleaned']  = clean_news"
   ]
  },
  {
   "cell_type": "code",
   "execution_count": 181,
   "metadata": {
    "ExecuteTime": {
     "end_time": "2019-12-05T09:06:08.859599Z",
     "start_time": "2019-12-05T09:06:08.847662Z"
    }
   },
   "outputs": [
    {
     "data": {
      "text/html": [
       "<div>\n",
       "<style scoped>\n",
       "    .dataframe tbody tr th:only-of-type {\n",
       "        vertical-align: middle;\n",
       "    }\n",
       "\n",
       "    .dataframe tbody tr th {\n",
       "        vertical-align: top;\n",
       "    }\n",
       "\n",
       "    .dataframe thead th {\n",
       "        text-align: right;\n",
       "    }\n",
       "</style>\n",
       "<table border=\"1\" class=\"dataframe\">\n",
       "  <thead>\n",
       "    <tr style=\"text-align: right;\">\n",
       "      <th></th>\n",
       "      <th>title</th>\n",
       "      <th>author_name</th>\n",
       "      <th>city</th>\n",
       "      <th>shares</th>\n",
       "      <th>news_text</th>\n",
       "      <th>label</th>\n",
       "      <th>label2</th>\n",
       "      <th>cleaned</th>\n",
       "    </tr>\n",
       "  </thead>\n",
       "  <tbody>\n",
       "    <tr>\n",
       "      <th>0</th>\n",
       "      <td>الدفاع المدني بالرياض يناقش مع الهلال الأحمر...</td>\n",
       "      <td>صحيفة سبق الإلكترونية</td>\n",
       "      <td>الرياض</td>\n",
       "      <td>2</td>\n",
       "      <td>استقبل مدير الدفاع المدني بمنطقة الرياض، اللوا...</td>\n",
       "      <td>['المملكة', 'محليات']</td>\n",
       "      <td>المملكةمحليات</td>\n",
       "      <td>ستقبل مدير دفاع مدن منطق رياض لواء خالد حرق مد...</td>\n",
       "    </tr>\n",
       "    <tr>\n",
       "      <th>1</th>\n",
       "      <td>\"أبوساق\": خطاب الملك بـ\"الشورى\" وثيقة استرات...</td>\n",
       "      <td>وكالة الأنباء السعودية (واس)</td>\n",
       "      <td>الرياض</td>\n",
       "      <td>4</td>\n",
       "      <td>عدَّ وزير الدولة عضو مجلس الوزراء لشؤون مجلس ا...</td>\n",
       "      <td>['المملكة', 'محليات']</td>\n",
       "      <td>المملكةمحليات</td>\n",
       "      <td>عد زير دول عض مجلس وزراء شؤو مجلس شورى محمد صل...</td>\n",
       "    </tr>\n",
       "    <tr>\n",
       "      <th>2</th>\n",
       "      <td>المملكة ترفض تصريحات الحكومة الأمريكية بشأن ...</td>\n",
       "      <td>وكالة الأنباء السعودية (واس)</td>\n",
       "      <td>الرياض</td>\n",
       "      <td>5</td>\n",
       "      <td>عبر مصدر مسؤول بوزارة الخارجية عن رفضه التام ل...</td>\n",
       "      <td>['المملكة', 'محليات']</td>\n",
       "      <td>المملكةمحليات</td>\n",
       "      <td>عبر مصدر مسؤول وزار خارج رفض تام تصريح حكوم أم...</td>\n",
       "    </tr>\n",
       "    <tr>\n",
       "      <th>3</th>\n",
       "      <td>ولي العهد يستعرض مع وزير الدفاع بكوريا الجنو...</td>\n",
       "      <td>وكالة الأنباء السعودية (واس)</td>\n",
       "      <td>الرياض</td>\n",
       "      <td>6</td>\n",
       "      <td>استقبل صاحب السمو الملكي الأمير محمد بن سلمان ...</td>\n",
       "      <td>['المملكة', 'محليات']</td>\n",
       "      <td>المملكةمحليات</td>\n",
       "      <td>ستقبل صاحب سمو ملك أمير محمد سلم عبدالعزيز لي ...</td>\n",
       "    </tr>\n",
       "    <tr>\n",
       "      <th>4</th>\n",
       "      <td>رائدات أعمال لـ\"سبق\": وضعنا بصمات مميزة عربي...</td>\n",
       "      <td>خلود غنام</td>\n",
       "      <td>الرياض</td>\n",
       "      <td>6</td>\n",
       "      <td>انطلق، مساء أمس، ملتقى سيدات الأعمال الـ19 الم...</td>\n",
       "      <td>['المملكة', 'محليات']</td>\n",
       "      <td>المملكةمحليات</td>\n",
       "      <td>نطلق ملتقى سيد أعمال ـ19 مقام قاع خزامى مناسب ...</td>\n",
       "    </tr>\n",
       "  </tbody>\n",
       "</table>\n",
       "</div>"
      ],
      "text/plain": [
       "                                               title  \\\n",
       "0    الدفاع المدني بالرياض يناقش مع الهلال الأحمر...   \n",
       "1    \"أبوساق\": خطاب الملك بـ\"الشورى\" وثيقة استرات...   \n",
       "2    المملكة ترفض تصريحات الحكومة الأمريكية بشأن ...   \n",
       "3    ولي العهد يستعرض مع وزير الدفاع بكوريا الجنو...   \n",
       "4    رائدات أعمال لـ\"سبق\": وضعنا بصمات مميزة عربي...   \n",
       "\n",
       "                     author_name      city shares  \\\n",
       "0         صحيفة سبق الإلكترونية    الرياض       2   \n",
       "1  وكالة الأنباء السعودية (واس)    الرياض       4   \n",
       "2  وكالة الأنباء السعودية (واس)    الرياض       5   \n",
       "3  وكالة الأنباء السعودية (واس)    الرياض       6   \n",
       "4                     خلود غنام    الرياض       6   \n",
       "\n",
       "                                           news_text                  label  \\\n",
       "0  استقبل مدير الدفاع المدني بمنطقة الرياض، اللوا...  ['المملكة', 'محليات']   \n",
       "1  عدَّ وزير الدولة عضو مجلس الوزراء لشؤون مجلس ا...  ['المملكة', 'محليات']   \n",
       "2  عبر مصدر مسؤول بوزارة الخارجية عن رفضه التام ل...  ['المملكة', 'محليات']   \n",
       "3  استقبل صاحب السمو الملكي الأمير محمد بن سلمان ...  ['المملكة', 'محليات']   \n",
       "4  انطلق، مساء أمس، ملتقى سيدات الأعمال الـ19 الم...  ['المملكة', 'محليات']   \n",
       "\n",
       "          label2                                            cleaned  \n",
       "0  المملكةمحليات  ستقبل مدير دفاع مدن منطق رياض لواء خالد حرق مد...  \n",
       "1  المملكةمحليات  عد زير دول عض مجلس وزراء شؤو مجلس شورى محمد صل...  \n",
       "2  المملكةمحليات  عبر مصدر مسؤول وزار خارج رفض تام تصريح حكوم أم...  \n",
       "3  المملكةمحليات  ستقبل صاحب سمو ملك أمير محمد سلم عبدالعزيز لي ...  \n",
       "4  المملكةمحليات  نطلق ملتقى سيد أعمال ـ19 مقام قاع خزامى مناسب ...  "
      ]
     },
     "execution_count": 181,
     "metadata": {},
     "output_type": "execute_result"
    }
   ],
   "source": [
    "news.head()"
   ]
  },
  {
   "cell_type": "code",
   "execution_count": 182,
   "metadata": {
    "ExecuteTime": {
     "end_time": "2019-12-05T09:06:31.866404Z",
     "start_time": "2019-12-05T09:06:31.858528Z"
    }
   },
   "outputs": [
    {
     "data": {
      "text/plain": [
       "22"
      ]
     },
     "execution_count": 182,
     "metadata": {},
     "output_type": "execute_result"
    }
   ],
   "source": [
    "news.label2.nunique()"
   ]
  },
  {
   "cell_type": "code",
   "execution_count": 91,
   "metadata": {
    "ExecuteTime": {
     "end_time": "2019-12-04T10:33:41.544299Z",
     "start_time": "2019-12-04T10:33:41.540638Z"
    }
   },
   "outputs": [],
   "source": [
    "from sklearn.feature_extraction.text import CountVectorizer"
   ]
  },
  {
   "cell_type": "code",
   "execution_count": 92,
   "metadata": {
    "ExecuteTime": {
     "end_time": "2019-12-04T10:33:42.035239Z",
     "start_time": "2019-12-04T10:33:42.030863Z"
    }
   },
   "outputs": [],
   "source": [
    "# Vectorizing.\n",
    "vectorizer = CountVectorizer(lowercase=False ) \n",
    "data_features = vectorizer.fit_transform(clean_news)\n",
    "vocab = vectorizer.get_feature_names()\n",
    "data_features = data_features.toarray()\n",
    "\n",
    "df=pd.DataFrame(data_features, columns = vectorizer.get_feature_names())"
   ]
  },
  {
   "cell_type": "code",
   "execution_count": 98,
   "metadata": {
    "ExecuteTime": {
     "end_time": "2019-12-04T10:33:51.026319Z",
     "start_time": "2019-12-04T10:33:51.008310Z"
    }
   },
   "outputs": [
    {
     "data": {
      "text/html": [
       "<div>\n",
       "<style scoped>\n",
       "    .dataframe tbody tr th:only-of-type {\n",
       "        vertical-align: middle;\n",
       "    }\n",
       "\n",
       "    .dataframe tbody tr th {\n",
       "        vertical-align: top;\n",
       "    }\n",
       "\n",
       "    .dataframe thead th {\n",
       "        text-align: right;\n",
       "    }\n",
       "</style>\n",
       "<table border=\"1\" class=\"dataframe\">\n",
       "  <thead>\n",
       "    <tr style=\"text-align: right;\">\n",
       "      <th></th>\n",
       "      <th>00</th>\n",
       "      <th>000</th>\n",
       "      <th>001</th>\n",
       "      <th>002</th>\n",
       "      <th>0056224708541</th>\n",
       "      <th>0056940702130</th>\n",
       "      <th>006</th>\n",
       "      <th>008</th>\n",
       "      <th>009611762711</th>\n",
       "      <th>009611762722</th>\n",
       "      <th>...</th>\n",
       "      <th>ﻣﺨﺮﺟﺎت</th>\n",
       "      <th>ﻣﻊ</th>\n",
       "      <th>ﻣﻦ</th>\n",
       "      <th>ﻣﻮاءﻣﺔ</th>\n",
       "      <th>ﻧﻔﻄﻴﺔ</th>\n",
       "      <th>ﻧﻮ</th>\n",
       "      <th>ﻫﻴﺌﺔ</th>\n",
       "      <th>ﻳﺮاد</th>\n",
       "      <th>ﻳﻜﺎﻓﺊ</th>\n",
       "      <th>ﻹﻳﺠﺎد</th>\n",
       "    </tr>\n",
       "  </thead>\n",
       "  <tbody>\n",
       "    <tr>\n",
       "      <th>0</th>\n",
       "      <td>0</td>\n",
       "      <td>0</td>\n",
       "      <td>0</td>\n",
       "      <td>0</td>\n",
       "      <td>0</td>\n",
       "      <td>0</td>\n",
       "      <td>0</td>\n",
       "      <td>0</td>\n",
       "      <td>0</td>\n",
       "      <td>0</td>\n",
       "      <td>...</td>\n",
       "      <td>0</td>\n",
       "      <td>0</td>\n",
       "      <td>0</td>\n",
       "      <td>0</td>\n",
       "      <td>0</td>\n",
       "      <td>0</td>\n",
       "      <td>0</td>\n",
       "      <td>0</td>\n",
       "      <td>0</td>\n",
       "      <td>0</td>\n",
       "    </tr>\n",
       "    <tr>\n",
       "      <th>1</th>\n",
       "      <td>0</td>\n",
       "      <td>0</td>\n",
       "      <td>0</td>\n",
       "      <td>0</td>\n",
       "      <td>0</td>\n",
       "      <td>0</td>\n",
       "      <td>0</td>\n",
       "      <td>0</td>\n",
       "      <td>0</td>\n",
       "      <td>0</td>\n",
       "      <td>...</td>\n",
       "      <td>0</td>\n",
       "      <td>0</td>\n",
       "      <td>0</td>\n",
       "      <td>0</td>\n",
       "      <td>0</td>\n",
       "      <td>0</td>\n",
       "      <td>0</td>\n",
       "      <td>0</td>\n",
       "      <td>0</td>\n",
       "      <td>0</td>\n",
       "    </tr>\n",
       "  </tbody>\n",
       "</table>\n",
       "<p>2 rows × 22420 columns</p>\n",
       "</div>"
      ],
      "text/plain": [
       "   00  000  001  002  0056224708541  0056940702130  006  008  009611762711  \\\n",
       "0   0    0    0    0              0              0    0    0             0   \n",
       "1   0    0    0    0              0              0    0    0             0   \n",
       "\n",
       "   009611762722  ...  ﻣﺨﺮﺟﺎت  ﻣﻊ  ﻣﻦ  ﻣﻮاءﻣﺔ  ﻧﻔﻄﻴﺔ  ﻧﻮ  ﻫﻴﺌﺔ  ﻳﺮاد  ﻳﻜﺎﻓﺊ  \\\n",
       "0             0  ...       0   0   0       0      0   0     0     0      0   \n",
       "1             0  ...       0   0   0       0      0   0     0     0      0   \n",
       "\n",
       "   ﻹﻳﺠﺎد  \n",
       "0      0  \n",
       "1      0  \n",
       "\n",
       "[2 rows x 22420 columns]"
      ]
     },
     "execution_count": 98,
     "metadata": {},
     "output_type": "execute_result"
    }
   ],
   "source": [
    "df.head(2)"
   ]
  },
  {
   "cell_type": "code",
   "execution_count": 160,
   "metadata": {
    "ExecuteTime": {
     "end_time": "2019-12-05T08:05:05.558749Z",
     "start_time": "2019-12-05T08:05:04.430622Z"
    }
   },
   "outputs": [],
   "source": [
    "# Import train_test_split.\n",
    "from sklearn.model_selection import train_test_split\n",
    "\n",
    "# Features and target\n",
    "X = df\n",
    "y = news['label2']\n",
    "\n",
    "# Create train_test_split.\n",
    "X_train, X_test, y_train, y_test = train_test_split(X, y, test_size = 0.25, random_state = 42 )#, stratify = True)"
   ]
  },
  {
   "cell_type": "markdown",
   "metadata": {},
   "source": [
    "# Modeling\n",
    "- done only on the text of the news"
   ]
  },
  {
   "cell_type": "code",
   "execution_count": 178,
   "metadata": {
    "ExecuteTime": {
     "end_time": "2019-12-05T08:58:14.376827Z",
     "start_time": "2019-12-05T08:58:14.372308Z"
    }
   },
   "outputs": [],
   "source": [
    "from sklearn.linear_model import LogisticRegression, SGDClassifier\n",
    "from sklearn import svm \n",
    "from sklearn.ensemble import RandomForestClassifier\n",
    "from sklearn.naive_bayes import MultinomialNB\n",
    "from sklearn.model_selection import GridSearchCV\n",
    "from sklearn.metrics import classification_report, confusion_matrix"
   ]
  },
  {
   "cell_type": "code",
   "execution_count": 156,
   "metadata": {
    "ExecuteTime": {
     "end_time": "2019-12-05T07:48:05.331322Z",
     "start_time": "2019-12-05T07:48:05.326753Z"
    }
   },
   "outputs": [],
   "source": [
    "# Initializing\n",
    "clf = SGDClassifier()\n",
    "lr = LogisticRegression()\n",
    "model_nb = MultinomialNB()\n",
    "svm_classfier = svm.SVC()\n",
    "rf = RandomForestClassifier()"
   ]
  },
  {
   "cell_type": "markdown",
   "metadata": {},
   "source": [
    "#### fitting "
   ]
  },
  {
   "cell_type": "code",
   "execution_count": 170,
   "metadata": {
    "ExecuteTime": {
     "end_time": "2019-12-05T08:13:27.923011Z",
     "start_time": "2019-12-05T08:09:06.242834Z"
    }
   },
   "outputs": [
    {
     "data": {
      "text/plain": [
       "SVC(C=1.0, cache_size=200, class_weight=None, coef0=0.0,\n",
       "    decision_function_shape='ovr', degree=3, gamma='auto_deprecated',\n",
       "    kernel='rbf', max_iter=-1, probability=False, random_state=None,\n",
       "    shrinking=True, tol=0.001, verbose=False)"
      ]
     },
     "execution_count": 170,
     "metadata": {},
     "output_type": "execute_result"
    }
   ],
   "source": [
    "svm_classfier.fit(X_train,y_train)"
   ]
  },
  {
   "cell_type": "code",
   "execution_count": 171,
   "metadata": {
    "ExecuteTime": {
     "end_time": "2019-12-05T08:16:22.151015Z",
     "start_time": "2019-12-05T08:13:27.924935Z"
    }
   },
   "outputs": [
    {
     "data": {
      "text/plain": [
       "0.6896774193548387"
      ]
     },
     "execution_count": 171,
     "metadata": {},
     "output_type": "execute_result"
    }
   ],
   "source": [
    "svm_classfier.score(X_train,y_train)"
   ]
  },
  {
   "cell_type": "code",
   "execution_count": 172,
   "metadata": {
    "ExecuteTime": {
     "end_time": "2019-12-05T08:17:21.037909Z",
     "start_time": "2019-12-05T08:16:22.153192Z"
    }
   },
   "outputs": [
    {
     "data": {
      "text/plain": [
       "0.7205029013539652"
      ]
     },
     "execution_count": 172,
     "metadata": {},
     "output_type": "execute_result"
    }
   ],
   "source": [
    "svm_classfier.score(X_test, y_test)"
   ]
  },
  {
   "cell_type": "code",
   "execution_count": 164,
   "metadata": {
    "ExecuteTime": {
     "end_time": "2019-12-05T08:07:32.818855Z",
     "start_time": "2019-12-05T08:07:14.436908Z"
    }
   },
   "outputs": [
    {
     "data": {
      "text/plain": [
       "SGDClassifier(alpha=0.0001, average=False, class_weight=None,\n",
       "              early_stopping=False, epsilon=0.1, eta0=0.0, fit_intercept=True,\n",
       "              l1_ratio=0.15, learning_rate='optimal', loss='hinge',\n",
       "              max_iter=1000, n_iter_no_change=5, n_jobs=None, penalty='l2',\n",
       "              power_t=0.5, random_state=None, shuffle=True, tol=0.001,\n",
       "              validation_fraction=0.1, verbose=0, warm_start=False)"
      ]
     },
     "execution_count": 164,
     "metadata": {},
     "output_type": "execute_result"
    }
   ],
   "source": [
    "clf.fit(X_train,y_train)"
   ]
  },
  {
   "cell_type": "code",
   "execution_count": 165,
   "metadata": {
    "ExecuteTime": {
     "end_time": "2019-12-05T08:07:40.293705Z",
     "start_time": "2019-12-05T08:07:39.845368Z"
    }
   },
   "outputs": [
    {
     "data": {
      "text/plain": [
       "0.9987096774193548"
      ]
     },
     "execution_count": 165,
     "metadata": {},
     "output_type": "execute_result"
    }
   ],
   "source": [
    "clf.score(X_train,y_train)"
   ]
  },
  {
   "cell_type": "code",
   "execution_count": 166,
   "metadata": {
    "ExecuteTime": {
     "end_time": "2019-12-05T08:07:52.817621Z",
     "start_time": "2019-12-05T08:07:52.644874Z"
    }
   },
   "outputs": [
    {
     "data": {
      "text/plain": [
       "0.8694390715667312"
      ]
     },
     "execution_count": 166,
     "metadata": {},
     "output_type": "execute_result"
    }
   ],
   "source": [
    "clf.score(X_test, y_test)"
   ]
  },
  {
   "cell_type": "code",
   "execution_count": 167,
   "metadata": {
    "ExecuteTime": {
     "end_time": "2019-12-05T08:08:12.725009Z",
     "start_time": "2019-12-05T08:08:09.478083Z"
    }
   },
   "outputs": [
    {
     "data": {
      "text/plain": [
       "RandomForestClassifier(bootstrap=True, class_weight=None, criterion='gini',\n",
       "                       max_depth=None, max_features='auto', max_leaf_nodes=None,\n",
       "                       min_impurity_decrease=0.0, min_impurity_split=None,\n",
       "                       min_samples_leaf=1, min_samples_split=2,\n",
       "                       min_weight_fraction_leaf=0.0, n_estimators=10,\n",
       "                       n_jobs=None, oob_score=False, random_state=None,\n",
       "                       verbose=0, warm_start=False)"
      ]
     },
     "execution_count": 167,
     "metadata": {},
     "output_type": "execute_result"
    }
   ],
   "source": [
    "rf.fit(X_train,y_train)"
   ]
  },
  {
   "cell_type": "code",
   "execution_count": 168,
   "metadata": {
    "ExecuteTime": {
     "end_time": "2019-12-05T08:08:14.354049Z",
     "start_time": "2019-12-05T08:08:14.078991Z"
    }
   },
   "outputs": [
    {
     "data": {
      "text/plain": [
       "0.9896774193548387"
      ]
     },
     "execution_count": 168,
     "metadata": {},
     "output_type": "execute_result"
    }
   ],
   "source": [
    "rf.score(X_train,y_train)"
   ]
  },
  {
   "cell_type": "code",
   "execution_count": 169,
   "metadata": {
    "ExecuteTime": {
     "end_time": "2019-12-05T08:08:14.675147Z",
     "start_time": "2019-12-05T08:08:14.567499Z"
    }
   },
   "outputs": [
    {
     "data": {
      "text/plain": [
       "0.8423597678916828"
      ]
     },
     "execution_count": 169,
     "metadata": {},
     "output_type": "execute_result"
    }
   ],
   "source": [
    "rf.score(X_test, y_test)"
   ]
  },
  {
   "cell_type": "code",
   "execution_count": 157,
   "metadata": {
    "ExecuteTime": {
     "end_time": "2019-12-05T07:50:17.695436Z",
     "start_time": "2019-12-05T07:50:14.518439Z"
    }
   },
   "outputs": [
    {
     "data": {
      "text/plain": [
       "LogisticRegression(C=1.0, class_weight=None, dual=False, fit_intercept=True,\n",
       "                   intercept_scaling=1, l1_ratio=None, max_iter=100,\n",
       "                   multi_class='warn', n_jobs=None, penalty='l2',\n",
       "                   random_state=None, solver='warn', tol=0.0001, verbose=0,\n",
       "                   warm_start=False)"
      ]
     },
     "execution_count": 157,
     "metadata": {},
     "output_type": "execute_result"
    }
   ],
   "source": [
    "lr.fit(X_train, y_train)"
   ]
  },
  {
   "cell_type": "code",
   "execution_count": 158,
   "metadata": {
    "ExecuteTime": {
     "end_time": "2019-12-05T07:50:18.129139Z",
     "start_time": "2019-12-05T07:50:17.697720Z"
    },
    "scrolled": true
   },
   "outputs": [
    {
     "data": {
      "text/plain": [
       "1.0"
      ]
     },
     "execution_count": 158,
     "metadata": {},
     "output_type": "execute_result"
    }
   ],
   "source": [
    "lr.score(X_train, y_train)"
   ]
  },
  {
   "cell_type": "code",
   "execution_count": 159,
   "metadata": {
    "ExecuteTime": {
     "end_time": "2019-12-05T07:50:18.378440Z",
     "start_time": "2019-12-05T07:50:18.132286Z"
    },
    "scrolled": true
   },
   "outputs": [
    {
     "data": {
      "text/plain": [
       "0.8887814313346228"
      ]
     },
     "execution_count": 159,
     "metadata": {},
     "output_type": "execute_result"
    }
   ],
   "source": [
    "lr.score(X_test, y_test)"
   ]
  },
  {
   "cell_type": "code",
   "execution_count": 107,
   "metadata": {
    "ExecuteTime": {
     "end_time": "2019-12-04T10:34:32.825291Z",
     "start_time": "2019-12-04T10:34:32.274106Z"
    }
   },
   "outputs": [
    {
     "data": {
      "text/plain": [
       "MultinomialNB(alpha=1.0, class_prior=None, fit_prior=True)"
      ]
     },
     "execution_count": 107,
     "metadata": {},
     "output_type": "execute_result"
    }
   ],
   "source": [
    "model_nb.fit(X_train, y_train)"
   ]
  },
  {
   "cell_type": "code",
   "execution_count": 108,
   "metadata": {
    "ExecuteTime": {
     "end_time": "2019-12-04T10:34:34.411346Z",
     "start_time": "2019-12-04T10:34:33.980206Z"
    }
   },
   "outputs": [
    {
     "data": {
      "text/plain": [
       "0.9170967741935484"
      ]
     },
     "execution_count": 108,
     "metadata": {},
     "output_type": "execute_result"
    }
   ],
   "source": [
    "model_nb.score(X_train, y_train)"
   ]
  },
  {
   "cell_type": "code",
   "execution_count": 109,
   "metadata": {
    "ExecuteTime": {
     "end_time": "2019-12-04T10:34:36.642355Z",
     "start_time": "2019-12-04T10:34:36.494349Z"
    },
    "scrolled": true
   },
   "outputs": [
    {
     "data": {
      "text/plain": [
       "0.8762088974854932"
      ]
     },
     "execution_count": 109,
     "metadata": {},
     "output_type": "execute_result"
    }
   ],
   "source": [
    "model_nb.score(X_test, y_test)"
   ]
  },
  {
   "cell_type": "markdown",
   "metadata": {},
   "source": [
    "#### GridSearching"
   ]
  },
  {
   "cell_type": "markdown",
   "metadata": {},
   "source": [
    "Grid search for Multinomial NB"
   ]
  },
  {
   "cell_type": "code",
   "execution_count": 188,
   "metadata": {
    "ExecuteTime": {
     "end_time": "2019-12-05T09:12:11.574140Z",
     "start_time": "2019-12-05T09:12:11.568036Z"
    }
   },
   "outputs": [],
   "source": [
    "parm_grid = {'alpha': np.arange(0.1,3.0,0.1),\n",
    "            'fit_prior':[True, False],\n",
    "            'class_prior':[None]}"
   ]
  },
  {
   "cell_type": "code",
   "execution_count": 189,
   "metadata": {
    "ExecuteTime": {
     "end_time": "2019-12-05T09:12:12.083543Z",
     "start_time": "2019-12-05T09:12:12.079961Z"
    }
   },
   "outputs": [],
   "source": [
    "grid = GridSearchCV(model_nb, parm_grid, verbose = 1,n_jobs=-1)"
   ]
  },
  {
   "cell_type": "code",
   "execution_count": 190,
   "metadata": {
    "ExecuteTime": {
     "end_time": "2019-12-05T09:13:37.710157Z",
     "start_time": "2019-12-05T09:12:12.587397Z"
    }
   },
   "outputs": [
    {
     "name": "stdout",
     "output_type": "stream",
     "text": [
      "Fitting 3 folds for each of 58 candidates, totalling 174 fits\n"
     ]
    },
    {
     "name": "stderr",
     "output_type": "stream",
     "text": [
      "[Parallel(n_jobs=-1)]: Using backend LokyBackend with 8 concurrent workers.\n",
      "[Parallel(n_jobs=-1)]: Done  34 tasks      | elapsed:   20.0s\n",
      "[Parallel(n_jobs=-1)]: Done 174 out of 174 | elapsed:  1.4min finished\n"
     ]
    },
    {
     "data": {
      "text/plain": [
       "GridSearchCV(cv='warn', error_score='raise-deprecating',\n",
       "             estimator=MultinomialNB(alpha=1.0, class_prior=None,\n",
       "                                     fit_prior=True),\n",
       "             iid='warn', n_jobs=-1,\n",
       "             param_grid={'alpha': array([0.1, 0.2, 0.3, 0.4, 0.5, 0.6, 0.7, 0.8, 0.9, 1. , 1.1, 1.2, 1.3,\n",
       "       1.4, 1.5, 1.6, 1.7, 1.8, 1.9, 2. , 2.1, 2.2, 2.3, 2.4, 2.5, 2.6,\n",
       "       2.7, 2.8, 2.9]),\n",
       "                         'class_prior': [None], 'fit_prior': [True, False]},\n",
       "             pre_dispatch='2*n_jobs', refit=True, return_train_score=False,\n",
       "             scoring=None, verbose=1)"
      ]
     },
     "execution_count": 190,
     "metadata": {},
     "output_type": "execute_result"
    }
   ],
   "source": [
    "grid.fit(X_train, y_train)"
   ]
  },
  {
   "cell_type": "code",
   "execution_count": 191,
   "metadata": {
    "ExecuteTime": {
     "end_time": "2019-12-05T09:14:54.561088Z",
     "start_time": "2019-12-05T09:14:54.551572Z"
    }
   },
   "outputs": [
    {
     "data": {
      "text/plain": [
       "MultinomialNB(alpha=0.5, class_prior=None, fit_prior=True)"
      ]
     },
     "execution_count": 191,
     "metadata": {},
     "output_type": "execute_result"
    }
   ],
   "source": [
    "grid.best_estimator_"
   ]
  },
  {
   "cell_type": "code",
   "execution_count": 192,
   "metadata": {
    "ExecuteTime": {
     "end_time": "2019-12-05T09:15:25.251464Z",
     "start_time": "2019-12-05T09:15:24.813242Z"
    }
   },
   "outputs": [
    {
     "data": {
      "text/plain": [
       "0.937741935483871"
      ]
     },
     "execution_count": 192,
     "metadata": {},
     "output_type": "execute_result"
    }
   ],
   "source": [
    "grid.score(X_train, y_train)"
   ]
  },
  {
   "cell_type": "code",
   "execution_count": 193,
   "metadata": {
    "ExecuteTime": {
     "end_time": "2019-12-05T09:15:50.577244Z",
     "start_time": "2019-12-05T09:15:50.324048Z"
    }
   },
   "outputs": [
    {
     "data": {
      "text/plain": [
       "0.8713733075435203"
      ]
     },
     "execution_count": 193,
     "metadata": {},
     "output_type": "execute_result"
    }
   ],
   "source": [
    "grid.score(X_test, y_test)"
   ]
  },
  {
   "cell_type": "code",
   "execution_count": 194,
   "metadata": {
    "ExecuteTime": {
     "end_time": "2019-12-05T09:16:11.522753Z",
     "start_time": "2019-12-05T09:16:11.514273Z"
    }
   },
   "outputs": [
    {
     "data": {
      "text/plain": [
       "0.87"
      ]
     },
     "execution_count": 194,
     "metadata": {},
     "output_type": "execute_result"
    }
   ],
   "source": [
    "grid.best_score_"
   ]
  },
  {
   "cell_type": "markdown",
   "metadata": {},
   "source": [
    "#### Grid search for Logistic Regression"
   ]
  },
  {
   "cell_type": "code",
   "execution_count": 249,
   "metadata": {
    "ExecuteTime": {
     "end_time": "2019-12-05T10:10:58.794634Z",
     "start_time": "2019-12-05T10:10:58.786805Z"
    }
   },
   "outputs": [],
   "source": [
    "grid_lr = GridSearchCV(lr, parm_grid, verbose = 1,n_jobs=-1)"
   ]
  },
  {
   "cell_type": "code",
   "execution_count": 250,
   "metadata": {
    "ExecuteTime": {
     "end_time": "2019-12-05T10:10:59.500331Z",
     "start_time": "2019-12-05T10:10:59.494995Z"
    }
   },
   "outputs": [],
   "source": [
    "parm_grid = {'C': np.arange(0.1,1.0,0.1),\n",
    "#             'penalty':['l1', 'l2'],\n",
    "            'dual':[True, False],\n",
    "#             'fit_intercept':[True, False],\n",
    "#             'solver':['newton-cg', 'sag', 'saga', 'lbfgs','liblinear','warn'],\n",
    "#             'max_iter':range(100,500,100),\n",
    "            }"
   ]
  },
  {
   "cell_type": "code",
   "execution_count": 240,
   "metadata": {
    "ExecuteTime": {
     "end_time": "2019-12-05T09:37:35.258249Z",
     "start_time": "2019-12-05T09:37:35.252300Z"
    }
   },
   "outputs": [
    {
     "data": {
      "text/plain": [
       "dict_keys(['C', 'class_weight', 'dual', 'fit_intercept', 'intercept_scaling', 'l1_ratio', 'max_iter', 'multi_class', 'n_jobs', 'penalty', 'random_state', 'solver', 'tol', 'verbose', 'warm_start'])"
      ]
     },
     "execution_count": 240,
     "metadata": {},
     "output_type": "execute_result"
    }
   ],
   "source": [
    "grid_lr.estimator.get_params().keys()"
   ]
  },
  {
   "cell_type": "code",
   "execution_count": 251,
   "metadata": {
    "ExecuteTime": {
     "end_time": "2019-12-05T10:11:45.224907Z",
     "start_time": "2019-12-05T10:11:03.348390Z"
    }
   },
   "outputs": [
    {
     "name": "stdout",
     "output_type": "stream",
     "text": [
      "Fitting 3 folds for each of 18 candidates, totalling 54 fits\n"
     ]
    },
    {
     "name": "stderr",
     "output_type": "stream",
     "text": [
      "[Parallel(n_jobs=-1)]: Using backend LokyBackend with 8 concurrent workers.\n",
      "[Parallel(n_jobs=-1)]: Done  34 tasks      | elapsed:   27.4s\n",
      "[Parallel(n_jobs=-1)]: Done  54 out of  54 | elapsed:   40.4s finished\n"
     ]
    },
    {
     "data": {
      "text/plain": [
       "GridSearchCV(cv='warn', error_score='raise-deprecating',\n",
       "             estimator=LogisticRegression(C=1.0, class_weight=None, dual=False,\n",
       "                                          fit_intercept=True,\n",
       "                                          intercept_scaling=1, l1_ratio=None,\n",
       "                                          max_iter=100, multi_class='warn',\n",
       "                                          n_jobs=None, penalty='l2',\n",
       "                                          random_state=None, solver='warn',\n",
       "                                          tol=0.0001, verbose=0,\n",
       "                                          warm_start=False),\n",
       "             iid='warn', n_jobs=-1,\n",
       "             param_grid={'C': array([0.1, 0.2, 0.3, 0.4, 0.5, 0.6, 0.7, 0.8, 0.9]),\n",
       "                         'dual': [True, False]},\n",
       "             pre_dispatch='2*n_jobs', refit=True, return_train_score=False,\n",
       "             scoring=None, verbose=1)"
      ]
     },
     "execution_count": 251,
     "metadata": {},
     "output_type": "execute_result"
    }
   ],
   "source": [
    "grid_lr.fit(X_train, y_train)"
   ]
  },
  {
   "cell_type": "code",
   "execution_count": 252,
   "metadata": {
    "ExecuteTime": {
     "end_time": "2019-12-05T10:11:49.977955Z",
     "start_time": "2019-12-05T10:11:49.969981Z"
    }
   },
   "outputs": [
    {
     "data": {
      "text/plain": [
       "LogisticRegression(C=0.1, class_weight=None, dual=True, fit_intercept=True,\n",
       "                   intercept_scaling=1, l1_ratio=None, max_iter=100,\n",
       "                   multi_class='warn', n_jobs=None, penalty='l2',\n",
       "                   random_state=None, solver='warn', tol=0.0001, verbose=0,\n",
       "                   warm_start=False)"
      ]
     },
     "execution_count": 252,
     "metadata": {},
     "output_type": "execute_result"
    }
   ],
   "source": [
    "grid_lr.best_estimator_"
   ]
  },
  {
   "cell_type": "code",
   "execution_count": 253,
   "metadata": {
    "ExecuteTime": {
     "end_time": "2019-12-05T10:11:51.652460Z",
     "start_time": "2019-12-05T10:11:51.644445Z"
    }
   },
   "outputs": [
    {
     "data": {
      "text/plain": [
       "0.8770967741935484"
      ]
     },
     "execution_count": 253,
     "metadata": {},
     "output_type": "execute_result"
    }
   ],
   "source": [
    "grid_lr.best_score_"
   ]
  },
  {
   "cell_type": "code",
   "execution_count": 254,
   "metadata": {
    "ExecuteTime": {
     "end_time": "2019-12-05T10:11:53.010034Z",
     "start_time": "2019-12-05T10:11:52.597615Z"
    }
   },
   "outputs": [
    {
     "data": {
      "text/plain": [
       "0.9974193548387097"
      ]
     },
     "execution_count": 254,
     "metadata": {},
     "output_type": "execute_result"
    }
   ],
   "source": [
    "grid_lr.score(X_train, y_train)"
   ]
  },
  {
   "cell_type": "code",
   "execution_count": 255,
   "metadata": {
    "ExecuteTime": {
     "end_time": "2019-12-05T10:11:57.342139Z",
     "start_time": "2019-12-05T10:11:57.088648Z"
    }
   },
   "outputs": [
    {
     "data": {
      "text/plain": [
       "0.8916827852998066"
      ]
     },
     "execution_count": 255,
     "metadata": {},
     "output_type": "execute_result"
    }
   ],
   "source": [
    "grid_lr.score(X_test, y_test)"
   ]
  },
  {
   "cell_type": "markdown",
   "metadata": {},
   "source": [
    "### Results\n",
    "\n",
    "|Model|Training Score|Testing score|\n",
    "|---|---|---|\n",
    "|SVM|0.6896774193548387|0.7205029013539652| \n",
    "|Random Forest Classifier|0.9896774193548387|0.8423597678916828|\n",
    "|Logistic Regression|1.0|0.8887814313346228|\n",
    "|SGD Classifier|0.9987096774193548|0.8694390715667312|\n",
    "|Multinomial NB|0.9170967741935484| 0.8762088974854932 |\n",
    "|Grid Search Multinomial NB|0.937741935483871| 0.8713733075435203 |\n",
    "|Grid Search Logistic Regression|0.9974193548387097| 0.8916827852998066\n",
    " |\n"
   ]
  },
  {
   "cell_type": "code",
   "execution_count": 111,
   "metadata": {
    "ExecuteTime": {
     "end_time": "2019-12-04T10:37:02.039761Z",
     "start_time": "2019-12-04T10:37:01.892659Z"
    }
   },
   "outputs": [],
   "source": [
    "# predictions for the test data on the best model\n",
    "pred = model_nb.predict(X_test)"
   ]
  },
  {
   "cell_type": "code",
   "execution_count": 174,
   "metadata": {
    "ExecuteTime": {
     "end_time": "2019-12-05T08:36:27.143350Z",
     "start_time": "2019-12-05T08:36:27.103252Z"
    },
    "scrolled": false
   },
   "outputs": [
    {
     "name": "stdout",
     "output_type": "stream",
     "text": [
      "[[100   0   0   0   0   0   6   0   0   0   0   0   0   0   0   0   0   1]\n",
      " [  0   0   0   0   0   0  15   0   0   0   0   0   0   0   0   0   0   0]\n",
      " [  0   0   8   0   0   0   4   0   0   0   0   0   0   0   0   0   0   0]\n",
      " [  0   0   0   0   0   0   7   0   0   0   0   0   0   0   0   0   0   0]\n",
      " [  0   0   0   0   0   0   3   0   0   0   0   0   0   0   0   0   0   0]\n",
      " [  0   0   0   0   0   0   1   0   0   0   0   0   0   0   0   0   0   0]\n",
      " [ 17   1   7   0   0   0 695   0   4   0   0   0   0   0   0   0   0  17]\n",
      " [  2   0   0   0   0   0   2   7   0   0   0   0   0   0   0   0   0   1]\n",
      " [  0   0   0   0   0   0   4   0  55   0   0   0   0   0   0   0   0   0]\n",
      " [  1   0   0   0   0   0   0   0   4   1   0   0   0   0   0   0   0   0]\n",
      " [  0   0   0   0   0   0   1   0   0   0   0   0   0   0   0   0   0   0]\n",
      " [  0   0   0   0   0   0   1   0   0   0   0   0   0   0   0   0   0   1]\n",
      " [  0   0   0   0   0   0   3   0   0   0   0   0   0   0   0   0   0   0]\n",
      " [  0   0   0   0   0   0   0   0   0   0   0   0   0   0   0   0   0   3]\n",
      " [  0   0   0   0   0   0   1   0   0   0   0   0   0   0   0   0   0   0]\n",
      " [  0   0   0   0   0   0   0   0   0   0   0   0   0   0   0   0   0   1]\n",
      " [  0   0   0   0   0   0   3   0   0   0   0   0   0   0   0   0   2   1]\n",
      " [  7   0   0   0   0   0   7   1   1   0   0   0   0   0   0   0   0  38]]\n",
      "                      precision    recall  f1-score   support\n",
      "\n",
      "        أخبار العالم       0.79      0.93      0.85       107\n",
      "المملكةأخبار المناطق       0.00      0.00      0.00        15\n",
      "       المملكةإقتصاد       0.53      0.67      0.59        12\n",
      "        المملكةثقافة       0.00      0.00      0.00         7\n",
      "     المملكةصوتك وصل       0.00      0.00      0.00         3\n",
      "        المملكةمجتمع       0.00      0.00      0.00         1\n",
      "       المملكةمحليات       0.92      0.94      0.93       741\n",
      "  تقنيةأخبار التقنية       0.88      0.58      0.70        12\n",
      "  رياضةرياضة المملكة       0.86      0.93      0.89        59\n",
      "   رياضةرياضة عالمية       1.00      0.17      0.29         6\n",
      "     سياحةسفر وطيران       0.00      0.00      0.00         1\n",
      "   سياحةسياحة خارجية       0.00      0.00      0.00         2\n",
      "   سياحةسياحة داخلية       0.00      0.00      0.00         3\n",
      "   سياحةغرائب وعجائب       0.00      0.00      0.00         3\n",
      " سياحةفنادق ومنتجعات       0.00      0.00      0.00         1\n",
      "   سياحةوجهات داخلية       0.00      0.00      0.00         1\n",
      "سياراتأخبار السيارات       1.00      0.33      0.50         6\n",
      "               محطات       0.60      0.70      0.65        54\n",
      "\n",
      "            accuracy                           0.88      1034\n",
      "           macro avg       0.37      0.29      0.30      1034\n",
      "        weighted avg       0.85      0.88      0.86      1034\n",
      "\n"
     ]
    }
   ],
   "source": [
    "#Confusion Matrix\n",
    "print (confusion_matrix(y_test, pred))\n",
    "print (classification_report(y_test, pred))"
   ]
  }
 ],
 "metadata": {
  "kernelspec": {
   "display_name": "Python 3",
   "language": "python",
   "name": "python3"
  },
  "language_info": {
   "codemirror_mode": {
    "name": "ipython",
    "version": 3
   },
   "file_extension": ".py",
   "mimetype": "text/x-python",
   "name": "python",
   "nbconvert_exporter": "python",
   "pygments_lexer": "ipython3",
   "version": "3.7.4"
  }
 },
 "nbformat": 4,
 "nbformat_minor": 2
}
